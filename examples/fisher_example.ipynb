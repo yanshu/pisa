{
 "cells": [
  {
   "cell_type": "markdown",
   "metadata": {},
   "source": [
    "This basic example demonstrates how to run the Fisher analysis interactively and extract the mass hierarchy significance from the results."
   ]
  },
  {
   "cell_type": "code",
   "execution_count": 1,
   "metadata": {
    "collapsed": false
   },
   "outputs": [],
   "source": [
    "from pisa.analysis.fisher.Fisher import FisherMatrix\n",
    "from pisa.analysis.fisher.FisherAnalysis import get_fisher_matrices\n",
    "from pisa.utils.jsons import from_json"
   ]
  },
  {
   "cell_type": "markdown",
   "metadata": {},
   "source": [
    "Load template settings and grid settings from a file:"
   ]
  },
  {
   "cell_type": "code",
   "execution_count": 4,
   "metadata": {
    "collapsed": false
   },
   "outputs": [],
   "source": [
    "model_settings = from_json(\"$PISA/pisa/resources/settings/template_settings/V36_LoI_8syst_e39_cz20.json\")\n",
    "grid_settings = from_json(\"$PISA/pisa/resources/settings/grid_settings/grid_settings_fisher.json\")"
   ]
  },
  {
   "cell_type": "markdown",
   "metadata": {},
   "source": [
    "Run Fisher analysis chain for IMH, given the settings specified above:"
   ]
  },
  {
   "cell_type": "code",
   "execution_count": 5,
   "metadata": {
    "collapsed": false
   },
   "outputs": [
    {
     "name": "stdout",
     "output_type": "stream",
     "text": [
      "[    INFO] start initializing\n",
      "Auto initializing PyCUDA...\n",
      "*** compiler output in /var/folders/w5/4jj3mgh522j1dfbzgv6bhrbr0000gn/T/tmppOV7rF\n",
      "/Users/timothyarlen/icecube/pisa/pisa/oscillations/Prob3GPUOscillationService.py:232: UserWarning:The CUDA compiler succeeded, but said the following:\n",
      "kernel.cu(27): warning: variable \"thread_1D_pos\" was declared but never referenced\n",
      "\n",
      "kernel.cu(27): warning: variable \"thread_1D_pos\" was declared but never referenced\n",
      "\n",
      "\n",
      "[    INFO] stop initializing\n",
      "\n",
      "[    INFO] start template calculation\n",
      "[    INFO] ==> elapsed time for template: 2.23060488701 sec\n",
      "[    INFO] start template calculation\n",
      "[    INFO] ==> elapsed time for template: 0.892007827759 sec\n",
      "[    INFO] ==> elapsed time for template: 0.680376052856 sec\n",
      "[    INFO] ==> elapsed time for template: 0.636788129807 sec\n",
      "[    INFO] ==> elapsed time for template: 0.613533973694 sec\n",
      "[    INFO] ==> elapsed time for template: 0.617066860199 sec\n",
      "[    INFO] ==> elapsed time for template: 0.609299898148 sec\n",
      "[    INFO] ==> elapsed time for template: 0.60769701004 sec\n",
      "[    INFO] ==> elapsed time for template: 0.612298965454 sec\n",
      "[    INFO] ==> elapsed time for template: 0.609673976898 sec\n",
      "[    INFO] ==> elapsed time for template: 0.613852024078 sec\n",
      "[    INFO] ==> elapsed time for template: 0.613778114319 sec\n",
      "[    INFO] ==> elapsed time for template: 0.614971160889 sec\n",
      "[    INFO] ==> elapsed time for template: 0.615473031998 sec\n",
      "[    INFO] ==> elapsed time for template: 0.616178035736 sec\n",
      "[    INFO] ==> elapsed time for template: 0.619772911072 sec\n",
      "[    INFO] ==> elapsed time for template: 0.614754199982 sec\n",
      "[    INFO] ==> elapsed time for template: 0.610924005508 sec\n",
      "[    INFO] ==> elapsed time for template: 0.62145280838 sec\n",
      "[    INFO] ==> elapsed time for template: 0.615160942078 sec\n",
      "[    INFO] ==> elapsed time for template: 0.6134121418 sec\n",
      "[    INFO] ==> elapsed time for template: 0.613763093948 sec\n",
      "[    INFO] ==> elapsed time for template: 0.612185955048 sec\n",
      "[    INFO] ==> elapsed time for template: 0.613404035568 sec\n",
      "[    INFO] ==> elapsed time for template: 0.615538835526 sec\n",
      "[    INFO] ==> elapsed time for template: 0.617444038391 sec\n",
      "[    INFO] ==> elapsed time for template: 0.613097906113 sec\n",
      "[    INFO] ==> elapsed time for template: 0.63250207901 sec\n",
      "[    INFO] ==> elapsed time for template: 0.616899013519 sec\n",
      "[    INFO] ==> elapsed time for template: 0.637382030487 sec\n",
      "[    INFO] ==> elapsed time for template: 0.61111497879 sec\n",
      "[    INFO] ==> elapsed time for template: 0.61457490921 sec\n",
      "[    INFO] ==> elapsed time for template: 0.62192606926 sec\n",
      "[    INFO] ==> elapsed time for template: 0.620327949524 sec\n",
      "[    INFO] ==> elapsed time for template: 0.610991954803 sec\n",
      "[    INFO] ==> elapsed time for template: 0.639142990112 sec\n",
      "[    INFO] ==> elapsed time for template: 0.609681129456 sec\n",
      "[    INFO] ==> elapsed time for template: 0.617048978806 sec\n",
      "[    INFO] ==> elapsed time for template: 0.624763965607 sec\n",
      "[    INFO] ==> elapsed time for template: 0.615330934525 sec\n",
      "[    INFO] ==> elapsed time for template: 0.613495826721 sec\n",
      "[    INFO] ==> elapsed time for template: 0.625355958939 sec\n",
      "[    INFO] ==> elapsed time for template: 0.61789894104 sec\n",
      "[    INFO] ==> elapsed time for template: 0.619570016861 sec\n",
      "[    INFO] ==> elapsed time for template: 0.619429111481 sec\n",
      "[    INFO] ==> elapsed time for template: 0.6130900383 sec\n",
      "[    INFO] ==> elapsed time for template: 0.610303878784 sec\n",
      "[    INFO] ==> elapsed time for template: 0.616385936737 sec\n",
      "[    INFO] ==> elapsed time for template: 0.610134124756 sec\n",
      "[    INFO] ==> elapsed time for template: 0.613895893097 sec\n",
      "[    INFO] ==> elapsed time for template: 0.616141080856 sec\n",
      "[    INFO] ==> elapsed time for template: 0.613559007645 sec\n",
      "[    INFO] ==> elapsed time for template: 0.613271951675 sec\n",
      "[    INFO] ==> elapsed time for template: 0.610795021057 sec\n",
      "[    INFO] ==> elapsed time for template: 0.621708154678 sec\n",
      "[    INFO] ==> elapsed time for template: 0.622627973557 sec\n",
      "[    INFO] ==> elapsed time for template: 0.61443901062 sec\n",
      "[    INFO] ==> elapsed time for template: 0.615879058838 sec\n",
      "[    INFO] ==> elapsed time for template: 0.61448097229 sec\n",
      "[    INFO] ==> elapsed time for template: 0.618052959442 sec\n",
      "[    INFO] ==> elapsed time for template: 0.653001070023 sec\n",
      "[    INFO] ==> elapsed time for template: 0.617769002914 sec\n",
      "[    INFO] ==> elapsed time for template: 0.633854866028 sec\n",
      "[    INFO] ==> elapsed time for template: 0.623391151428 sec\n",
      "[    INFO] ==> elapsed time for template: 0.615500926971 sec\n",
      "[    INFO] ==> elapsed time for template: 0.612241983414 sec\n",
      "[    INFO] ==> elapsed time for template: 0.621472120285 sec\n",
      "[    INFO] ==> elapsed time for template: 0.611222982407 sec\n"
     ]
    }
   ],
   "source": [
    "fisher = get_fisher_matrices(model_settings, grid_settings, IMH=True, NMH=False)"
   ]
  },
  {
   "cell_type": "markdown",
   "metadata": {},
   "source": [
    "Print the mass hierarchy significances and impacts + uncertainties of the different systematics:"
   ]
  },
  {
   "cell_type": "code",
   "execution_count": 6,
   "metadata": {
    "collapsed": false
   },
   "outputs": [
    {
     "name": "stdout",
     "output_type": "stream",
     "text": [
      "IMH, comb: hierarchy significance (sigma): 1.50 \n",
      "\n",
      "      parameter     impact [%]      best fit          full          stat          syst        priors\n",
      "----------------------------------------------------------------------------------------------------\n",
      "      hierarchy          100.0     1.000e+00     6.648e-01     3.713e-01     5.515e-01     free\n",
      "        theta23           45.0     7.383e-01     3.251e-02     1.793e-02     2.712e-02     free\n",
      "atm_delta_index            8.0     0.000e+00     6.879e-03     3.414e-03     6.048e-03     5.000e-02\n",
      "       deltam31            7.2     2.460e-03     4.430e-05     3.724e-05     8.803e-05     5.000e-05\n",
      " nue_numu_ratio            0.8     1.000e+00     2.639e-02     2.379e-02     5.012e-02     3.000e-02\n",
      "        theta13            0.4     1.484e-01     3.484e-03     2.668e-02     4.855e-02     3.491e-03\n",
      "     aeff_scale            0.4     1.000e+00     3.498e-02     3.713e-03     3.479e-02     free\n",
      " nu_nubar_ratio            0.1     1.000e+00     9.975e-02     2.228e-02     1.410e+00     1.000e-01\n",
      "   energy_scale            0.1     1.000e+00     1.555e-02     1.744e-03     1.565e-02     1.000e-01\n",
      "\n",
      "\n",
      "IMH, trck: hierarchy significance (sigma): 0.84 \n",
      "\n",
      "      parameter     impact [%]      best fit          full          stat          syst        priors\n",
      "----------------------------------------------------------------------------------------------------\n",
      "      hierarchy          100.0     1.000e+00     1.196e+00     5.506e-01     1.061e+00     free\n",
      "     aeff_scale           28.9     1.000e+00     5.690e-02     7.446e-03     5.641e-02     free\n",
      "   energy_scale           27.9     1.000e+00     2.676e-02     3.504e-03     2.755e-02     1.000e-01\n",
      "        theta23           22.2     7.383e-01     5.078e-02     1.997e-02     4.669e-02     free\n",
      "atm_delta_index            6.0     0.000e+00     9.366e-03     4.307e-03     8.507e-03     5.000e-02\n",
      "       deltam31            2.1     2.460e-03     4.765e-05     3.925e-05     1.525e-04     5.000e-05\n",
      " nue_numu_ratio            0.6     1.000e+00     2.918e-02     6.133e-02     1.101e-01     3.000e-02\n",
      "        theta13            0.2     1.484e-01     3.488e-03     3.281e-02     9.153e-02     3.491e-03\n",
      " nu_nubar_ratio            0.1     1.000e+00     9.985e-02     4.585e-02     1.822e+00     1.000e-01\n",
      "\n",
      "\n",
      "IMH, cscd: hierarchy significance (sigma): 0.79 \n",
      "\n",
      "      parameter     impact [%]      best fit          full          stat          syst        priors\n",
      "----------------------------------------------------------------------------------------------------\n",
      "      hierarchy          100.0     1.000e+00     1.263e+00     5.028e-01     1.159e+00     free\n",
      "        theta23           52.5     7.383e-01     1.144e-01     4.064e-02     1.070e-01     free\n",
      "   energy_scale            6.0     1.000e+00     4.226e-02     2.011e-03     4.658e-02     1.000e-01\n",
      "atm_delta_index            5.1     0.000e+00     2.500e-02     5.600e-03     2.832e-02     5.000e-02\n",
      "     aeff_scale            3.9     1.000e+00     8.057e-02     4.284e-03     8.045e-02     free\n",
      "       deltam31            0.4     2.460e-03     4.844e-05     1.178e-04     1.563e-04     5.000e-05\n",
      " nu_nubar_ratio            0.1     1.000e+00     9.996e-02     2.549e-02     3.438e+00     1.000e-01\n",
      " nue_numu_ratio            0.1     1.000e+00     2.927e-02     2.581e-02     1.310e-01     3.000e-02\n",
      "        theta13            0.0     1.484e-01     3.489e-03     4.583e-02     1.255e-01     3.491e-03\n",
      "\n",
      "\n"
     ]
    }
   ],
   "source": [
    "for data in fisher:\n",
    "    for channel in fisher[data]:\n",
    "        print \"%s, %s: hierarchy significance (sigma): %.2f \\n\"%(data,channel,1./fisher[data][channel].getSigma('hierarchy'))\n",
    "        fisher[data][channel].printResultsSorted('hierarchy',latex=False)\n",
    "        print \"\\n\""
   ]
  },
  {
   "cell_type": "markdown",
   "metadata": {},
   "source": [
    "For .json files containing Fisher matrices, create Fisher matrix objects via the built-in method FisherMatrix.fromFile(\"/path/to/Fisher/matrix/file\") and proceed as shown above."
   ]
  },
  {
   "cell_type": "code",
   "execution_count": null,
   "metadata": {
    "collapsed": false
   },
   "outputs": [],
   "source": []
  }
 ],
 "metadata": {
  "kernelspec": {
   "display_name": "Python 2",
   "language": "python",
   "name": "python2"
  },
  "language_info": {
   "codemirror_mode": {
    "name": "ipython",
    "version": 2
   },
   "file_extension": ".py",
   "mimetype": "text/x-python",
   "name": "python",
   "nbconvert_exporter": "python",
   "pygments_lexer": "ipython2",
   "version": "2.7.9"
  }
 },
 "nbformat": 4,
 "nbformat_minor": 0
}
